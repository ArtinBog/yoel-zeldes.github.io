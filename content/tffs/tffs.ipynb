{
 "cells": [
  {
   "cell_type": "markdown",
   "metadata": {},
   "source": [
    "Tensorflow is great. Really, I mean it. The problem is it’s great up to a point. Sometimes you want to do very simple things, but tensorflow is giving you a hard time. The motivation I had behind writing [TFFS](https://github.com/yoel-zeldes/tffs) (TensorFlow File System) can be shared by anyone who has used tensorflow, including you.\n",
    "\n",
    "All I wanted was to know what the name of a specific tensor is; or what its input tensors are (ignoring operations).\n",
    "\n",
    "**All of these questions can be easily answered using tensorboard.** Sure, you just open the graph tab, and visually examine the graph. Really convenient, right? Well, only if you want to have a bird overview of the graph. But if you’re focused and have a specific question you want to answer, using the keyboard is the way to go.\n",
    "\n",
    "**So why not load the graph inside a python shell and examine it?** That’s doable, but writing these lines of code every time I want to do that task? Having to remember how to load a graph, how to look for a tensor, how to get its inputs... Sure, it’s only a couple of lines of code, but once you repeat the same task over and over again, it’s time to write a script!\n",
    "\n",
    "**So why not write an interactive script?** You mean a script that given the path to your model loads it for you, and provides utility functions to ease your pain of writing tensorflow code? Well, we could do that, but that’s not gonna be as awesome as what I’m gonna show you!\n",
    "\n",
    "Disclaimer: if you want a solution that makes sense, stop reading here and just use the interactive script approach. Continue reading only if you want to learn something a bit different ;)"
   ]
  },
  {
   "cell_type": "markdown",
   "metadata": {},
   "source": [
    "# Filesystem to the Rescue!\n",
    "The names of tensors have slashes — a big resemblance with the UNIX filesystem. Imagine a world with a tensorflow filesystem, where directories are analogous to tensorflow scopes, and files  -  to tensors. Given such a filesystem, we could use good old bash to do what we want. For instance, we could list all available scopes and tensors by running `find ~/tf` - assuming `~/tf` is where the tensorflow filesystem mounted. Want to list only tensors? No problem, just use `find ~/tf -type f`.\n",
    "\n",
    "Hey, we’ve got files, right? What should their content be? Let’s run `cat ~/tf/.../tensor_name`. Wow! We got the tensor’s value  - nice... This will work only if the tensor doesn’t depend on placeholders, for obvious reasons.\n",
    "\n",
    "What about getting the inputs to a tensor? Well, you can run `~/tf/bin/inputs -d 3 ~/tf/.../tensor_name`. This special script will print a tree view of the inputs with recursion depth of 3. Nice..."
   ]
  },
  {
   "cell_type": "markdown",
   "metadata": {},
   "source": [
    "![](../images/tffs/lets_do_it.jpg)\n",
    "\n",
    "**OK, I’m in. How do we implement it?** That’s a fine question. We can use Filesystem in Userspace (FUSE). It’s a technology that allows us to implement a filesystem in user space. It saves us the trouble of going into the *low level* realm, which is really hard if you’ve never done it before (and slow to implement). It includes writing code in C  - the horror! We’ll use a python binding called [fusepy](https://github.com/fusepy/fusepy).\n",
    "\n",
    "In this post I’ll explain only the interesting parts of the implementation. The entire code can be found [here](https://github.com/yoel-zeldes/tffs). Including documentation, it’s only 345 lines of code.\n",
    "\n",
    "First we need to load a tensorflow model:\n",
    "1. Import the graph structure using `tf.train.import_meta_graph`.\n",
    "2. If the model was trained, load the weights using `saver.restore`."
   ]
  },
  {
   "cell_type": "code",
   "execution_count": null,
   "metadata": {
    "collapsed": true
   },
   "outputs": [],
   "source": [
    "def _load_model(model_path):\n",
    "    \"\"\"\n",
    "    Load a tensorflow model from the given path.\n",
    "    It's assumed the path is either a directory containing a .meta file, or the .meta file itself.\n",
    "    If there's also a file containing the weights with the same name as the .meta file\n",
    "    (without the .meta extension), it'll be loaded as well.\n",
    "    \"\"\"\n",
    "    if os.path.isdir(model_path):\n",
    "        meta_filename = [filename for filename in os.listdir(model_path) if filename.endswith('.meta')]\n",
    "        assert len(meta_filename) == 1, 'expecting to get a .meta file or a directory containing a .meta file'\n",
    "        model_path = os.path.join(model_path, meta_filename[0])\n",
    "    else:\n",
    "        assert model_path.endswith('.meta'), 'expecting to get a .meta file or a directory containing a .meta file'\n",
    "    weights_path = model_path[:-len('.meta')]\n",
    "\n",
    "    graph = tf.Graph()\n",
    "    with graph.as_default():\n",
    "        saver = tf.train.import_meta_graph(model_path)\n",
    "        if os.path.isfile(weights_path):\n",
    "            session = tf.Session(graph=graph)\n",
    "            saver.restore(session, weights_path)\n",
    "        else:\n",
    "            session = None\n",
    "    return graph, session"
   ]
  },
  {
   "cell_type": "markdown",
   "metadata": {},
   "source": [
    "# Mapping Tensors to Files\n",
    "Next, I’ll describe the main class. There are several interesting things in the constructor. First, we call `_load_model`. Then, we map each tensor in the graph into a path in the filesystem. Say a tensor has the name `a/b/c:0` - it will be mapped to the path `~/tf/a/b/c:0`, assuming the mount point is `~/tf`.\n",
    "\n",
    "Each directory and file is created using the `_create_dir` and `_create_tensor_file` functions. These functions return a simple python dict with metadata about the directory or file.\n",
    "\n",
    "We also call `_populate_bin`, which I'll touch on later."
   ]
  },
  {
   "cell_type": "code",
   "execution_count": null,
   "metadata": {
    "collapsed": true
   },
   "outputs": [],
   "source": [
    "class TfFs(fuse.Operations):\n",
    "    def __init__(self, mount_point, model_path):\n",
    "        self._graph, self._session = _load_model(model_path)\n",
    "        self._files = {}\n",
    "        self._bin_scripts = {}\n",
    "        self._tensor_values = {}\n",
    "        now = time()\n",
    "        self._files['/'] = _create_dir(now)\n",
    "        self._files['/bin'] = _create_dir(now)\n",
    "        self._populate_bin(mount_point)\n",
    "\n",
    "        for op in self._graph.get_operations():\n",
    "            for tensor in op.outputs:\n",
    "                next_slash_index = 0\n",
    "                while next_slash_index >= 0:\n",
    "                    next_slash_index = tensor.name.find('/', next_slash_index + 1)\n",
    "                    if next_slash_index >= 0:\n",
    "                        key = '/' + tensor.name[:next_slash_index]\n",
    "                        if key not in self._files:\n",
    "                            self._files[key] = _create_dir(now)\n",
    "                self._files['/' + tensor.name] = _create_tensor_file(tensor)\n",
    "\n",
    "    # ..."
   ]
  },
  {
   "cell_type": "markdown",
   "metadata": {},
   "source": [
    "# Working with `fusepy`\n",
    "fusepy requires you to implement a class that extends `fuse.Operations`. This class implements the operations the filesystem supports. In our case, we want to support reading files, so we'll implement the `read` function. when called, this function will evaluate the tensor associated with the given path."
   ]
  },
  {
   "cell_type": "code",
   "execution_count": null,
   "metadata": {
    "collapsed": true
   },
   "outputs": [],
   "source": [
    "# ...\n",
    "\n",
    "def _eval_tensor_if_needed(self, path):\n",
    "    \"\"\"\n",
    "    Given a path to a tensor file, evaluate the tensor and cache the result in self._tensor_values.\n",
    "    \"\"\"\n",
    "    if self._session is None:\n",
    "        return None\n",
    "    if path not in self._tensor_values:\n",
    "        self._tensor_values[path] = self._session.run(self._graph.get_tensor_by_name(path[1:]))\n",
    "    return self._tensor_values[path]\n",
    "\n",
    "def read(self, path, size, offset, fh):\n",
    "    if path.startswith('/bin/'):\n",
    "        return self._bin_scripts[path][offset:offset + size]\n",
    "\n",
    "    val = self._eval_tensor_if_needed(path)\n",
    "    with printoptions(suppress=True,\n",
    "                      formatter={'all': _fixed_val_length},\n",
    "                      threshold=sys.maxint,\n",
    "                      linewidth=sys.maxint):\n",
    "        return str(val)[offset:offset + size]\n",
    "\n",
    "# ..."
   ]
  },
  {
   "cell_type": "markdown",
   "metadata": {},
   "source": [
    "Worried about the `printoptions` part? When implementing a filesystem you need to know the size of the files. We could evaluate all tensors in order to know the sizes, but this would take time and memory. Instead, we can examine each tensor’s shape. Given its shape, and given we use a formatter that outputs a fixed amount of characters per entry in the result (this is where `_fixed_val_length` comes in), we can calculate the size."
   ]
  },
  {
   "cell_type": "markdown",
   "metadata": {},
   "source": [
    "# Getting Inputs and Outputs\n",
    "While tensorflow scopes have a structure that resembles a filesystem, tensor inputs and outputs don’t. So instead of using a filesystem to get inputs and outputs, we can write a script that can be executed as follows:\n",
    "```\n",
    "~/tf/bin/outputs --depth 3 ~/tf/a:0\n",
    "```\n",
    "The result will look like this:\n",
    "```\n",
    "~/tf/a:0\n",
    "├── ~/tf/b:0\n",
    "└── ~/tf/c:0\n",
    "    └── ~/tf/d:0\n",
    "    |   └── ~/tf/e:0\n",
    "    └── ~/tf/f:0\n",
    "```\n",
    "Nice! We have the tree of outputs! To implement it, all we have to do is:\n",
    "1. Get the data, which is a mapping from each tensor to its outputs.\n",
    "2. Implement a recursive function that prints the tree. It's not that complicated (it took me 6 lines of code), and can be a nice exercise.\n",
    "\n",
    "There's one challenge though... The `outputs` script is gonna be executed inside a new process - this is how UNIX works. It means it won't have access to the tensorflow graph, which was loaded in the main process.\n",
    "\n",
    "So how is it going to access all the inputs/outputs of a tensor? I could have implemented interprocess communication between the two processes, which is a lot of work. But I chose a different approach. I created a template python file that contained the following line:\n",
    "```\n",
    "_TENSOR_TO_DEPENDENCIES = {{TENSOR_TO_TENSORS_PLACEHOLDER}}\n",
    "```\n",
    "This is illegal python code. The `_populate_bin` function which we saw earlier reads this python file, and replaces `{{TENSOR_TO_TENSORS_PLACEHOLDER}}` with the dictionary of tensor to outputs (or inputs). The result file is then mapped to a path in our filesystem - `~/tf/bin/outputs` (or `~/tf/bin/inputs`). It means that if you run `cat ~/tf/bin/outputs`, you'll be able to see the (potentially) huge mapping inside the file."
   ]
  },
  {
   "cell_type": "markdown",
   "metadata": {},
   "source": [
    "# cat ./final_thoughts\n",
    "We did it! We mapped a tensorflow model to a filesystem. TFFS was a fun small project, and I learned about FUSE while doing so, which is neat.\n",
    "\n",
    "TFFS is a cute tool, but it's not a replacement for good old python shell. With python, you can easily import a tensorflow model and inspect the tensors manually. I just wish I could remember how to do so, even after doing it hundreds of times..."
   ]
  }
 ],
 "metadata": {
  "kernelspec": {
   "display_name": "Python 2",
   "language": "python",
   "name": "python2"
  },
  "language_info": {
   "codemirror_mode": {
    "name": "ipython",
    "version": 2
   },
   "file_extension": ".py",
   "mimetype": "text/x-python",
   "name": "python",
   "nbconvert_exporter": "python",
   "pygments_lexer": "ipython2",
   "version": "2.7.13"
  }
 },
 "nbformat": 4,
 "nbformat_minor": 2
}
