{
 "cells": [
  {
   "cell_type": "markdown",
   "metadata": {},
   "source": [
    "# Word Morphing\n",
    "In this post I'll describe how I employed word2vec's embeddings and $A^*$ search algorithm to morph between words.\n",
    "\n",
    "In order to perform word morphing, we'll define a graph $G$ where the set of nodes $N$ represent words, and there's some weight function $f : N \\times N \\rightarrow \\mathbb{R}_{\\geq 0}$. Given a start word $n_{\\text{start}}$ and an end word $n_{\\text{end}}$, our goal is to find a path within the graph which minimizes the sum of weights induced by $f$:\n",
    "\n",
    "$\\text{argmin}_{\\langle n_1, ..., n_k \\rangle : k \\in \\mathbb{N}, n_1, ..., n_k \\in N, n_1 = n_{\\text{start}}, n_k = n_{\\text{end}}}\\sum_{i=1}^{k-1} f(n_i, n_{i+1})$\n",
    "\n",
    "Usually when people talk about word morphing they mean searching for a path between $n_{\\text{start}}$ and $n_{\\text{end}}$ where there's an edge only between words such that one can be achieved from the other by changing one letter. In this case, $f(n_1, n_2)$ is 1 when such a change exists, and $\\infty$ otherwise.\n",
    "\n",
    "In this post I'll show how to morph between semantically similar words, i.e. $f$ will be related to semantics. Here's an example to ilustrate the difference between the two approaches: given $n_{\\text{start}} = \\text{tooth}$, $n_{\\text{end}} = \\text{light}$, the approach of changing one character at a time [can result](http://wordmorph.sarangconsulting.com/?source=tooth&target=light&submit=MORPH+WORDS) in\n",
    "\n",
    "```tooth, booth, boots, botts, bitts, bitos, bigos, bigot, bight, light```\n",
    "\n",
    "where the semantics approach which will be defined in this post will reuslt in\n",
    "\n",
    "```tooth, retina, X_ray, light```"
   ]
  },
  {
   "cell_type": "markdown",
   "metadata": {},
   "source": [
    "# Word Semantics\n",
    "In order to capture word semantics we'll use pretrained word2vec embeddings. To those of you who are not familiar with the algorithm, here's an excerpt from [wikipedia](https://en.wikipedia.org/wiki/Word2vec):\n",
    "> Word2vec takes as its input a large corpus of text and produces a vector space, typically of several hundred dimensions, with each unique word in the corpus being assigned a corresponding vector in the space. Word vectors are positioned in the vector space such that words that share common contexts in the corpus are located in close proximity to one another in the space.\n",
    "\n",
    "It means every node in the graph can be associated with some vector in high dimensionality space (300 in our case). Therefore, we can naturally define a distance function between every two nodes. We'll use cosine similarity, since this is the metric usually used when one wants to semantically compare between word embeddings. From now on, I'll overload a node symbol $n$ to be its associated word's embedding vector.\n",
    "\n",
    "To use the word2vec embeddings, we'll download Google's pretrained embeddings, and use `gensim` package to access them."
   ]
  },
  {
   "cell_type": "code",
   "execution_count": 1,
   "metadata": {
    "collapsed": true
   },
   "outputs": [],
   "source": [
    "import os\n",
    "import gzip\n",
    "import shutil\n",
    "import requests\n",
    "import gensim\n",
    "import astar\n",
    "import numpy as np"
   ]
  },
  {
   "cell_type": "code",
   "execution_count": 2,
   "metadata": {
    "collapsed": true
   },
   "outputs": [],
   "source": [
    "def download_file_from_google_drive(file_id, destination):\n",
    "    drive_url = 'https://docs.google.com/uc?export=download'\n",
    "\n",
    "    session = requests.Session()\n",
    "    response = session.get(drive_url, params={'id': file_id}, stream=True)\n",
    "    token = get_confirm_token(response)\n",
    "    \n",
    "    if token:\n",
    "        params = {'id': file_id, 'confirm': token}\n",
    "        response = session.get(drive_url, params=params, stream=True)\n",
    "    \n",
    "    save_response_content(response, destination)    \n",
    "\n",
    "    \n",
    "def get_confirm_token(response):\n",
    "    for key, value in response.cookies.items():\n",
    "        if key.startswith('download_warning'):\n",
    "            return value\n",
    "\n",
    "        \n",
    "def save_response_content(response, dest):\n",
    "    CHUNK_SIZE = 32768\n",
    "\n",
    "    with open(dest, 'wb') as f:\n",
    "        for chunk in response.iter_content(CHUNK_SIZE):\n",
    "            if chunk:  # filter out keep-alive new chunks\n",
    "                f.write(chunk)\n",
    "    \n",
    "    \n",
    "def download_word2vec_if_needed(dest):\n",
    "    if os.path.exists(dest):\n",
    "        return\n",
    "    word2vec_file_id = '0B7XkCwpI5KDYNlNUTTlSS21pQmM'\n",
    "    zip_path = 'word2vec.bin.gz'\n",
    "    download_file_from_google_drive(word2vec_file_id, zip_path)\n",
    "    with gzip.open(zip_path, 'rb') as f_zip:\n",
    "        with open(dest, 'wb') as f_dest:\n",
    "            shutil.copyfileobj(f_zip, f_dest)\n",
    "    os.remove(zip_path)\n",
    "        \n",
    "\n",
    "word2vec_filename = 'word2vec.bin'\n",
    "download_word2vec_if_needed(word2vec_filename)\n",
    "\n",
    "model = gensim.models.KeyedVectors.load_word2vec_format(word2vec_filename, binary=True, limit=100000)"
   ]
  },
  {
   "cell_type": "markdown",
   "metadata": {},
   "source": [
    "# Choosing Weight Function\n",
    "Given the cosine similarity distance function, we can define our $f$ function to be $f(n_1, n_2) = 1 - \\cos(n_1, n_2) = 1 - \\frac{n_1 \\cdot n_2}{||n_1|| \\cdot ||n_2||}$.\n",
    "\n",
    "However, using this approach we'll face a problem: the best path might include edges with high weight, which will result in successive words that aren't semantically similar.\n",
    "\n",
    "To tackle this, we can change $f$ to be\n",
    "\n",
    "$f(n_1, n_2) = \\begin{cases}\n",
    "  1 - \\cos(n_1, n_2) & \\text{if } n_2 \\in \\text{neighbours}(n_1) \\\\\n",
    "  \\infty & \\text{otherwise}\n",
    "\\end{cases}$\n",
    "\n",
    "where $\\text{neighbours}(n_1)$ denotes the nearest nodes in the graph to $n_1$ in terms of cosine similarity. The number of neighbours is configurable."
   ]
  },
  {
   "cell_type": "markdown",
   "metadata": {},
   "source": [
    "# $A^*$ Search\n",
    "Now that we have our graph defined, we'll use a well known search algoithm called $A^*$.\n",
    "\n",
    "In this algorithm, every node has a cost composed of two terms - $g(n) + h(n)$.\n",
    "\n",
    "$g(n)$ is the cost of the shortest path from $n_{\\text{start}}$ to $n$, and $h(n)$ is a heuristic estimating the cost of the shortest path from $n$ to $n_{\\text{end}}$. In our case, the heuristic function will be $f$.\n",
    "\n",
    "The search algorithm maintains a data structure called *the open set*. Initially this set contains $n_{\\text{start}}$, and at each iteration of the algorithm we pop out the node in the open set with the minimial cost $g(n) + h(n)$, and add its neighbours to the open set. The algorithm stops when the node with the minimal cost is $n_{\\text{end}}$.\n",
    "\n",
    "This algorithm works with whatever heuristic function we choose. But in order to actually find the optimal path, the heurstic function must be admissible, meaning it can't overestimate the true cost. Unfortunately, $f$ is not admissible. However, we'll use the [observation](https://en.wikipedia.org/wiki/Cosine_similarity#Properties) that if the vectors have length 1, then the cosine similarity can be obtained using a monotonic transformation over the euclidean distance. It means the two are interchangeable in terms of ranking words by similarity. The euclidean distance is admissible (you can prove it using the [triangle inequality](https://en.wikipedia.org/wiki/Triangle_inequality)), so we can use that instead, by defining\n",
    "\n",
    "$f(n_1, n_2) = \\begin{cases}\n",
    "  ||n_1 - n_2|| & \\text{if } n_2 \\in \\text{neighbours}(n_1) \\\\\n",
    "  \\infty & \\text{otherwise}\n",
    "\\end{cases}$\n",
    "\n",
    "So to sum up, we'll normalize the word embeddings, use the euclidean distance as a mean to find semantically similar words, and the same euclidean distance to direct $A^*$ search process in order to find the optimal path."
   ]
  },
  {
   "cell_type": "code",
   "execution_count": 3,
   "metadata": {
    "collapsed": true
   },
   "outputs": [],
   "source": [
    "model.init_sims(replace=True)  # normalize the word embeddings to have length 1"
   ]
  },
  {
   "cell_type": "code",
   "execution_count": 4,
   "metadata": {
    "collapsed": true
   },
   "outputs": [],
   "source": [
    "def neighbors_fnct(node, n_neighbors, dilute_factor):\n",
    "    return [neighbor for neighbor, _ in model.similar_by_word(\n",
    "        node, n_neighbors * dilute_factor)][0:-1:dilute_factor]\n",
    "\n",
    "\n",
    "def euclidean_dist(n1, n2):\n",
    "    return np.linalg.norm(model.get_vector(n1) - model.get_vector(n2))\n",
    "\n",
    "\n",
    "def is_goal_reached_fnct(current, goal):\n",
    "    return euclidean_dist(current, goal) < 0.1\n",
    "\n",
    "\n",
    "def morph(start, end, n_neighbors=100, dilute_factor=10):\n",
    "    res = list(astar.find_path(start,\n",
    "                               end,\n",
    "                               neighbors_fnct=lambda node: neighbors_fnct(node, n_neighbors, dilute_factor),\n",
    "                               heuristic_cost_estimate_fnct=euclidean_dist,\n",
    "                               distance_between_fnct=euclidean_dist,\n",
    "                               is_goal_reached_fnct=is_goal_reached_fnct))\n",
    "    if res[-1] != end:\n",
    "        res.append(end)\n",
    "    return res"
   ]
  },
  {
   "cell_type": "markdown",
   "metadata": {},
   "source": [
    "I chose $neighbours(n)$ to include its 1000 nearest nodes. However, in order to make the search more efficient, we can dilute these using `dilute_factor` of 10: we pick the nearest neighbour, the 10'th nearest neighbour, the 20'th, and so on - until we have 100 nodes. The intuition behind it is that the best path from some intermediate node to $n_{\\text{end}}$ might pass through its nearest neghbour. If it doesn't, it might be the case that it won't pass through the second neighbour neither, since the first and second neighbours might be almost the same. So to save some computations, we just skip some of the nearest neighbours.\n",
    "\n",
    "And here comes the fun part:"
   ]
  },
  {
   "cell_type": "code",
   "execution_count": 5,
   "metadata": {},
   "outputs": [
    {
     "name": "stdout",
     "output_type": "stream",
     "text": [
      "['tooth', u'retina', u'X_ray', u'light']\n",
      "['John', u'George', u'Frank_Sinatra', u'Wonderful', u'perfect']\n",
      "['pillow', u'plastic_bag', u'pickup_truck', u'car']\n"
     ]
    }
   ],
   "source": [
    "print morph('tooth', 'light')\n",
    "print morph('John',  'perfect')\n",
    "print morph('pillow', 'car')"
   ]
  }
 ],
 "metadata": {
  "kernelspec": {
   "display_name": "Python 2",
   "language": "python",
   "name": "python2"
  },
  "language_info": {
   "codemirror_mode": {
    "name": "ipython",
    "version": 2
   },
   "file_extension": ".py",
   "mimetype": "text/x-python",
   "name": "python",
   "nbconvert_exporter": "python",
   "pygments_lexer": "ipython2",
   "version": "2.7.13"
  }
 },
 "nbformat": 4,
 "nbformat_minor": 2
}
